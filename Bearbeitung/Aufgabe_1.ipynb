{
 "cells": [
  {
   "cell_type": "code",
   "execution_count": 2,
   "metadata": {},
   "outputs": [],
   "source": [
    "import numpy as np\n",
    "import pandas as pd\n",
    "import requests\n",
    "import matplotlib.pyplot as plt\n",
    "import json"
   ]
  },
  {
   "cell_type": "code",
   "execution_count": 16,
   "metadata": {
    "scrolled": false
   },
   "outputs": [
    {
     "ename": "AttributeError",
     "evalue": "'list' object has no attribute 'keys'",
     "output_type": "error",
     "traceback": [
      "\u001b[1;31m---------------------------------------------------------------------------\u001b[0m",
      "\u001b[1;31mAttributeError\u001b[0m                            Traceback (most recent call last)",
      "\u001b[1;32m<ipython-input-16-ab16878c6d57>\u001b[0m in \u001b[0;36m<module>\u001b[1;34m\u001b[0m\n\u001b[0;32m      2\u001b[0m \u001b[0mr\u001b[0m\u001b[1;33m.\u001b[0m\u001b[0mstatus_code\u001b[0m\u001b[1;33m\u001b[0m\u001b[1;33m\u001b[0m\u001b[0m\n\u001b[0;32m      3\u001b[0m \u001b[0mjson_data\u001b[0m \u001b[1;33m=\u001b[0m \u001b[0mjson\u001b[0m\u001b[1;33m.\u001b[0m\u001b[0mloads\u001b[0m\u001b[1;33m(\u001b[0m\u001b[0mr\u001b[0m\u001b[1;33m.\u001b[0m\u001b[0mtext\u001b[0m\u001b[1;33m)\u001b[0m\u001b[1;33m\u001b[0m\u001b[1;33m\u001b[0m\u001b[0m\n\u001b[1;32m----> 4\u001b[1;33m \u001b[0mr\u001b[0m\u001b[1;33m.\u001b[0m\u001b[0mjson\u001b[0m\u001b[1;33m(\u001b[0m\u001b[1;33m)\u001b[0m\u001b[1;33m[\u001b[0m\u001b[1;34m'stations'\u001b[0m\u001b[1;33m]\u001b[0m\u001b[1;33m[\u001b[0m\u001b[1;34m'7'\u001b[0m\u001b[1;33m]\u001b[0m\u001b[1;33m.\u001b[0m\u001b[0mkeys\u001b[0m\u001b[1;33m(\u001b[0m\u001b[1;33m)\u001b[0m\u001b[1;33m\u001b[0m\u001b[1;33m\u001b[0m\u001b[0m\n\u001b[0m",
      "\u001b[1;31mAttributeError\u001b[0m: 'list' object has no attribute 'keys'"
     ]
    }
   ],
   "source": [
    "r = requests.get('https://www.umweltbundesamt.de/api/air_data/v2/meta/json', params={'use':'measure', 'date_from':'2020-01-01'})\n",
    "r.status_code\n",
    "json_data = json.loads(r.text)\n",
    "r.json()['stations'].keys()"
   ]
  },
  {
   "cell_type": "code",
   "execution_count": 7,
   "metadata": {},
   "outputs": [
    {
     "data": {
      "text/html": [
       "<div>\n",
       "<style scoped>\n",
       "    .dataframe tbody tr th:only-of-type {\n",
       "        vertical-align: middle;\n",
       "    }\n",
       "\n",
       "    .dataframe tbody tr th {\n",
       "        vertical-align: top;\n",
       "    }\n",
       "\n",
       "    .dataframe thead th {\n",
       "        text-align: right;\n",
       "    }\n",
       "</style>\n",
       "<table border=\"1\" class=\"dataframe\">\n",
       "  <thead>\n",
       "    <tr style=\"text-align: right;\">\n",
       "      <th></th>\n",
       "      <th>7</th>\n",
       "      <th>21</th>\n",
       "      <th>28</th>\n",
       "      <th>31</th>\n",
       "      <th>42</th>\n",
       "      <th>43</th>\n",
       "      <th>46</th>\n",
       "      <th>47</th>\n",
       "      <th>51</th>\n",
       "      <th>52</th>\n",
       "      <th>...</th>\n",
       "      <th>1945</th>\n",
       "      <th>1948</th>\n",
       "      <th>1949</th>\n",
       "      <th>1972</th>\n",
       "      <th>1973</th>\n",
       "      <th>1974</th>\n",
       "      <th>1990</th>\n",
       "      <th>2113</th>\n",
       "      <th>9404</th>\n",
       "      <th>9406</th>\n",
       "    </tr>\n",
       "  </thead>\n",
       "  <tbody>\n",
       "    <tr>\n",
       "      <th>0</th>\n",
       "      <td>[7, DEBB007, Elsterwerda, Elsterwerda, ELBA, 1...</td>\n",
       "      <td>[21, DEBB021, Potsdam-Zentrum, Potsdam, PDBA, ...</td>\n",
       "      <td>[28, DEBB029, Schwedt (Oder), Schwedt/Oder, SW...</td>\n",
       "      <td>[31, DEBB032, Eisenhüttenstadt, Eisenhüttensta...</td>\n",
       "      <td>[42, DEBB044, Cottbus, Bahnhofstr., Cottbus, C...</td>\n",
       "      <td>[43, DEBB045, Frankfurt (Oder), Leipziger Str....</td>\n",
       "      <td>[46, DEBB048, Neuruppin, Neuruppin, NEHA, 1998...</td>\n",
       "      <td>[47, DEBB049, Brandenburg, Neuendorfer Str., B...</td>\n",
       "      <td>[51, DEBB053, Hasenholz (Buckow), Buckow, HAHO...</td>\n",
       "      <td>[52, DEBB054, Potsdam, Zeppelinstr., Potsdam, ...</td>\n",
       "      <td>...</td>\n",
       "      <td>[1945, DEUB001, Westerland, Westerland, , 1968...</td>\n",
       "      <td>[1948, DEUB004, Schauinsland, Oberried-Hofsgru...</td>\n",
       "      <td>[1949, DEUB005, Waldhof, Lüder-Langenbrügge, ,...</td>\n",
       "      <td>[1972, DEUB028, Zingst, Zingst, , 1991-09-01, ...</td>\n",
       "      <td>[1973, DEUB029, Schmücke, Gehlberg, , 1978-07-...</td>\n",
       "      <td>[1974, DEUB030, Neuglobsow, Neuglobsow, , 1969...</td>\n",
       "      <td>[1990, DEUB046, Forellenbach, Spiegelau, , 200...</td>\n",
       "      <td>[2113, DEBB110, Dallgow-Döberitz, Dallgow-Döbe...</td>\n",
       "      <td>[9404, DENW397, Düsseldorf-Eller, Düsseldorf, ...</td>\n",
       "      <td>[9406, DEHE150, Frankfurt-Niedwald, Frankfurt ...</td>\n",
       "    </tr>\n",
       "  </tbody>\n",
       "</table>\n",
       "<p>1 rows × 453 columns</p>\n",
       "</div>"
      ],
      "text/plain": [
       "                                                   7  \\\n",
       "0  [7, DEBB007, Elsterwerda, Elsterwerda, ELBA, 1...   \n",
       "\n",
       "                                                  21  \\\n",
       "0  [21, DEBB021, Potsdam-Zentrum, Potsdam, PDBA, ...   \n",
       "\n",
       "                                                  28  \\\n",
       "0  [28, DEBB029, Schwedt (Oder), Schwedt/Oder, SW...   \n",
       "\n",
       "                                                  31  \\\n",
       "0  [31, DEBB032, Eisenhüttenstadt, Eisenhüttensta...   \n",
       "\n",
       "                                                  42  \\\n",
       "0  [42, DEBB044, Cottbus, Bahnhofstr., Cottbus, C...   \n",
       "\n",
       "                                                  43  \\\n",
       "0  [43, DEBB045, Frankfurt (Oder), Leipziger Str....   \n",
       "\n",
       "                                                  46  \\\n",
       "0  [46, DEBB048, Neuruppin, Neuruppin, NEHA, 1998...   \n",
       "\n",
       "                                                  47  \\\n",
       "0  [47, DEBB049, Brandenburg, Neuendorfer Str., B...   \n",
       "\n",
       "                                                  51  \\\n",
       "0  [51, DEBB053, Hasenholz (Buckow), Buckow, HAHO...   \n",
       "\n",
       "                                                  52  ...  \\\n",
       "0  [52, DEBB054, Potsdam, Zeppelinstr., Potsdam, ...  ...   \n",
       "\n",
       "                                                1945  \\\n",
       "0  [1945, DEUB001, Westerland, Westerland, , 1968...   \n",
       "\n",
       "                                                1948  \\\n",
       "0  [1948, DEUB004, Schauinsland, Oberried-Hofsgru...   \n",
       "\n",
       "                                                1949  \\\n",
       "0  [1949, DEUB005, Waldhof, Lüder-Langenbrügge, ,...   \n",
       "\n",
       "                                                1972  \\\n",
       "0  [1972, DEUB028, Zingst, Zingst, , 1991-09-01, ...   \n",
       "\n",
       "                                                1973  \\\n",
       "0  [1973, DEUB029, Schmücke, Gehlberg, , 1978-07-...   \n",
       "\n",
       "                                                1974  \\\n",
       "0  [1974, DEUB030, Neuglobsow, Neuglobsow, , 1969...   \n",
       "\n",
       "                                                1990  \\\n",
       "0  [1990, DEUB046, Forellenbach, Spiegelau, , 200...   \n",
       "\n",
       "                                                2113  \\\n",
       "0  [2113, DEBB110, Dallgow-Döberitz, Dallgow-Döbe...   \n",
       "\n",
       "                                                9404  \\\n",
       "0  [9404, DENW397, Düsseldorf-Eller, Düsseldorf, ...   \n",
       "\n",
       "                                                9406  \n",
       "0  [9406, DEHE150, Frankfurt-Niedwald, Frankfurt ...  \n",
       "\n",
       "[1 rows x 453 columns]"
      ]
     },
     "execution_count": 7,
     "metadata": {},
     "output_type": "execute_result"
    }
   ],
   "source": [
    "stations = pd.json_normalize((r.json()['stations']), sep=',', max_level=2)\n",
    "stations\n",
    "#record_path=[k for k in r.json()['stations']]"
   ]
  },
  {
   "cell_type": "code",
   "execution_count": null,
   "metadata": {},
   "outputs": [],
   "source": []
  }
 ],
 "metadata": {
  "kernelspec": {
   "display_name": "Python 3",
   "language": "python",
   "name": "python3"
  },
  "language_info": {
   "codemirror_mode": {
    "name": "ipython",
    "version": 3
   },
   "file_extension": ".py",
   "mimetype": "text/x-python",
   "name": "python",
   "nbconvert_exporter": "python",
   "pygments_lexer": "ipython3",
   "version": "3.7.6"
  }
 },
 "nbformat": 4,
 "nbformat_minor": 4
}
