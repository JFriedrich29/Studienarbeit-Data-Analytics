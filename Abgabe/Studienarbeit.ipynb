{
 "cells": [
  {
   "cell_type": "code",
   "execution_count": 1,
   "metadata": {},
   "outputs": [
    {
     "ename": "ModuleNotFoundError",
     "evalue": "No module named 'folium'",
     "output_type": "error",
     "traceback": [
      "\u001b[1;31m---------------------------------------------------------------------------\u001b[0m",
      "\u001b[1;31mModuleNotFoundError\u001b[0m                       Traceback (most recent call last)",
      "\u001b[1;32m<ipython-input-1-26b00718ff06>\u001b[0m in \u001b[0;36m<module>\u001b[1;34m\u001b[0m\n\u001b[0;32m      2\u001b[0m \u001b[1;32mimport\u001b[0m \u001b[0mnumpy\u001b[0m \u001b[1;32mas\u001b[0m \u001b[0mnp\u001b[0m\u001b[1;33m\u001b[0m\u001b[1;33m\u001b[0m\u001b[0m\n\u001b[0;32m      3\u001b[0m \u001b[1;32mimport\u001b[0m \u001b[0mmatplotlib\u001b[0m\u001b[1;33m.\u001b[0m\u001b[0mpyplot\u001b[0m \u001b[1;32mas\u001b[0m \u001b[0mplt\u001b[0m\u001b[1;33m\u001b[0m\u001b[1;33m\u001b[0m\u001b[0m\n\u001b[1;32m----> 4\u001b[1;33m \u001b[1;32mimport\u001b[0m \u001b[0mfolium\u001b[0m\u001b[1;33m.\u001b[0m\u001b[0mplugins\u001b[0m\u001b[1;33m\u001b[0m\u001b[1;33m\u001b[0m\u001b[0m\n\u001b[0m\u001b[0;32m      5\u001b[0m \u001b[1;32mimport\u001b[0m \u001b[0mfolium\u001b[0m\u001b[1;33m\u001b[0m\u001b[1;33m\u001b[0m\u001b[0m\n\u001b[0;32m      6\u001b[0m \u001b[1;32mimport\u001b[0m \u001b[0mrequests\u001b[0m\u001b[1;33m\u001b[0m\u001b[1;33m\u001b[0m\u001b[0m\n",
      "\u001b[1;31mModuleNotFoundError\u001b[0m: No module named 'folium'"
     ]
    }
   ],
   "source": [
    "import pandas as pd\n",
    "import numpy as np\n",
    "import matplotlib.pyplot as plt\n",
    "import folium.plugins\n",
    "import folium\n",
    "import requests\n",
    "import json\n",
    "import datetime\n",
    "import plotly.graph_objs as go\n",
    "import plotly.express as px\n",
    "import ipywidgets as widgets\n",
    "import sklearn.linear_model as sk\n",
    "import sklearn.model_selection as sm\n",
    "\n",
    "# Custom module\n",
    "import API_Access as api\n"
   ]
  },
  {
   "cell_type": "code",
   "execution_count": null,
   "metadata": {},
   "outputs": [],
   "source": [
    "# TODO Entfernen für Abgabe\n",
    "import importlib\n",
    "importlib.reload(api)\n"
   ]
  },
  {
   "cell_type": "markdown",
   "metadata": {},
   "source": [
    " ### Aufgabe 1 (Messstationen, Datenakquise, Semistrukturierte Daten, Geovisualisierung)"
   ]
  },
  {
   "cell_type": "markdown",
   "metadata": {},
   "source": [
    " #### a)"
   ]
  },
  {
   "cell_type": "markdown",
   "metadata": {},
   "source": [
    " Zu Beginn wird sich ein Überblick über die API des Umweltbudesamtes verschaffen.\n",
    " Die API bietet eine Schnittstelle an, um Meta-Daten aller bundesweiten Messtationen zu erhalten."
   ]
  },
  {
   "cell_type": "code",
   "execution_count": 2,
   "metadata": {},
   "outputs": [
    {
     "ename": "NameError",
     "evalue": "name 'api' is not defined",
     "output_type": "error",
     "traceback": [
      "\u001b[1;31m---------------------------------------------------------------------------\u001b[0m",
      "\u001b[1;31mNameError\u001b[0m                                 Traceback (most recent call last)",
      "\u001b[1;32m<ipython-input-2-d0c662494116>\u001b[0m in \u001b[0;36m<module>\u001b[1;34m\u001b[0m\n\u001b[0;32m      1\u001b[0m \u001b[1;31m# API zum Stand 01.01.2020 abfragen\u001b[0m\u001b[1;33m\u001b[0m\u001b[1;33m\u001b[0m\u001b[1;33m\u001b[0m\u001b[0m\n\u001b[1;32m----> 2\u001b[1;33m df_stations = api.GetMetaData_Stations_All(\n\u001b[0m\u001b[0;32m      3\u001b[0m     date_from=\"2020-01-01\", date_to=\"2020-01-01\")\n\u001b[0;32m      4\u001b[0m \u001b[0mdf_stations\u001b[0m\u001b[1;33m\u001b[0m\u001b[1;33m\u001b[0m\u001b[0m\n",
      "\u001b[1;31mNameError\u001b[0m: name 'api' is not defined"
     ]
    }
   ],
   "source": [
    "# API zum Stand 01.01.2020 abfragen\n",
    "df_stations = api.GetMetaData_Stations_All(\n",
    "    date_from=\"2020-01-01\", date_to=\"2020-01-01\")\n",
    "df_stations\n"
   ]
  },
  {
   "cell_type": "markdown",
   "metadata": {},
   "source": [
    " Für die spätere Verwendung werden die Stationsdaten in eine in eine CSV-Datei exportiert."
   ]
  },
  {
   "cell_type": "code",
   "execution_count": null,
   "metadata": {},
   "outputs": [],
   "source": [
    "df_stations.to_csv(\"stations_2020.csv\")\n",
    "df_stations = pd.read_csv(\"stations_2020.csv\", index_col=\"ID\")"
   ]
  },
  {
   "cell_type": "markdown",
   "metadata": {},
   "source": [
    " #### b)\n",
    " Wenn die Spalte Deconstruction_Date keine Wert enthält, ist an zu nehmen dass die Station noch in Betrieb ist."
   ]
  },
  {
   "cell_type": "code",
   "execution_count": null,
   "metadata": {},
   "outputs": [],
   "source": [
    "len(df_stations.loc[df_stations[\"Deconstruction_Date\"].isnull()])"
   ]
  },
  {
   "cell_type": "markdown",
   "metadata": {},
   "source": [
    " Folglich unserer Methode erhalten wir 431 aktive Stationen."
   ]
  },
  {
   "cell_type": "markdown",
   "metadata": {},
   "source": [
    " #### c)"
   ]
  },
  {
   "cell_type": "markdown",
   "metadata": {},
   "source": [
    " Das folgende Diagramm zeigt die Verteilung Stations Typen, welche für die spätere Analyse von Bedeutung sind."
   ]
  },
  {
   "cell_type": "code",
   "execution_count": null,
   "metadata": {},
   "outputs": [],
   "source": [
    "df_stations['Type'].value_counts().plot.pie(figsize=(\n",
    "    6, 6), title=\"Station Types\", legend=True, autopct='%1.0f%%')\n",
    "\n"
   ]
  },
  {
   "cell_type": "markdown",
   "metadata": {},
   "source": [
    " #### d)"
   ]
  },
  {
   "cell_type": "markdown",
   "metadata": {},
   "source": [
    " Die Karte die druch Folium erstellt wird zeigt die verschiedenen Typen an Sationen an und unterscheidet diese Farblich. Der Name der Station wird angezeigt wenn der Nutzer eine Station anklickt."
   ]
  },
  {
   "cell_type": "code",
   "execution_count": null,
   "metadata": {},
   "outputs": [],
   "source": [
    "colors = {\"industry\": \"yellow\", \"traffic\": \"red\", \"background\": \"green\"}\n",
    "\n",
    "m = folium.Map()\n",
    "\n",
    "for i in range(len(df_stations)):\n",
    "    folium.Circle(\n",
    "        location=df_stations[['Latitude', 'Longtitude']].iloc[i],\n",
    "        popup=df_stations['Name'].iloc[i],\n",
    "        radius=30,\n",
    "        color=colors[df_stations['Type'].iloc[i]],\n",
    "    ).add_to(m)\n",
    "\n",
    "# Optimalen Default Zoom-Faktor berechnen\n",
    "sw = df_stations[['Latitude', 'Longtitude']].min().values.tolist()\n",
    "ne = df_stations[['Latitude', 'Longtitude']].max().values.tolist()\n",
    "m.fit_bounds([sw, ne])\n",
    "\n",
    "m"
   ]
  },
  {
   "cell_type": "markdown",
   "metadata": {},
   "source": [
    " Grundsätzlich erkennt man eine breitfläche Verteilung der Stationen über ganz Deutschland.\n",
    " Dabei weißen größere Städte eine höhere Dichte an Stationen auf.\n",
    " Auch auffällig ist, das bayern keine Station vom Typ 'industry\" verweisen kann."
   ]
  },
  {
   "cell_type": "markdown",
   "metadata": {},
   "source": [
    " #### e)"
   ]
  },
  {
   "cell_type": "markdown",
   "metadata": {},
   "source": [
    "  Für alle nachfolgenden Analysen werden werden nur die Daten der Stationen aus Bayern verwendet."
   ]
  },
  {
   "cell_type": "code",
   "execution_count": null,
   "metadata": {},
   "outputs": [],
   "source": [
    "stations_BY = df_stations[df_stations['Network_Name'] == \"Bavaria\"]"
   ]
  },
  {
   "cell_type": "markdown",
   "metadata": {},
   "source": [
    " ### Aufgabe 2 (NO2-Daten, Datenvorbereitung, Datenqualität)"
   ]
  },
  {
   "cell_type": "markdown",
   "metadata": {},
   "source": [
    " #### a)"
   ]
  },
  {
   "cell_type": "code",
   "execution_count": null,
   "metadata": {},
   "outputs": [],
   "source": [
    "# stations_data_dict = dict()\n",
    "# for id in stations_BY.index:\n",
    "#     response = requests.get(\"https://www.umweltbundesamt.de/api/air_data/v2/measures/json\", params={\n",
    "#                             \"date_from\": \"2016-01-01\", \"time_from\": \"1\", \"date_to\": \"2019-12-31\", \"time_to\": \"24\", \"station\": str(id), \"component\": \"5\", \"scope\": \"2\"})\n",
    "#     json_data = json.loads(response.text)\n",
    "#     stations_data_dict[id] = json_data['data']\n",
    "#     if(response.status_code == 200):\n",
    "#         print(str(id) + \": Abfrage fertig\")\n",
    "#     else:\n",
    "#         break\n",
    "\n",
    "# # %% # TODO DEPRICATED\n",
    "# list_to_create = []\n",
    "# for station_id in stations_data_dict:\n",
    "#     for station_data in stations_data_dict[station_id]:\n",
    "#         measurements_for_id = stations_data_dict[station_id][station_data].values(\n",
    "#         )\n",
    "#         for data_point in measurements_for_id:\n",
    "#             datetime = data_point[3]\n",
    "#             no2_value = data_point[2]\n",
    "#             list_to_create.append([station_id, datetime, no2_value])\n",
    "# df_data_no2 = pd.DataFrame(list_to_create, columns=[\n",
    "#     \"STATION_ID\", \"DT\", \"NO2\"])\n",
    "# df_data_no2.index.name = 'dp_id'\n",
    "# df_data_no2 = df_data_no2.replace(\n",
    "#     to_replace='24:00:00', value=\"00:00:00\", regex=True)\n"
   ]
  },
  {
   "cell_type": "markdown",
   "metadata": {},
   "source": [
    " Im Folgenden wird die API für jede bayrische Station nach deren stündlichen Mittelwerten der NO2 Messungen zwischen dem 01.01.2016 und 31.12.2019 abfragt.\n",
    " Ein eigens dafür erstelltes Wrapper-Modul tätigt die API abfragen und überführt die erhaltenen Daten in ei Dataframe 'station_data'.\n",
    " Stationen, für die es keine Daten gibt, erhalten für jeden möglichen Messzeitpunkt im angegebenen Zeitraum jeweils einen NaN-Wert.\n",
    " Die Stationsdaten werden dann zu einem Dateframe 'df_data_no2' konkatiniert, welches die Grundlage in den nachfolgenden Analyse verwendet wird."
   ]
  },
  {
   "cell_type": "code",
   "execution_count": null,
   "metadata": {},
   "outputs": [],
   "source": [
    "df_data_no2 = pd.DataFrame()\n",
    "missing_data_stations = []\n",
    "for station_id in stations_BY.index:\n",
    "    try:\n",
    "        station_data = api.GetMeasurements_MeanPerHour_SingleComponent(\n",
    "            station_id=str(station_id),\n",
    "            component=api.ComponentEnum.NO2,\n",
    "            date_from=\"2016-01-01\",\n",
    "            date_to=\"2019-12-31\")\n",
    "\n",
    "        # Append to final df\n",
    "        df_data_no2 = pd.concat([df_data_no2, station_data], ignore_index=True)\n",
    "\n",
    "    except:\n",
    "        missing_data_stations.append(station_id)\n",
    "\n",
    "df_data_no2\n",
    "# returns 1814952 rows # TODO MERKER ENTFERNEN\n",
    "# and 1557272  no2 value count()\n",
    "# Nach Anpassung 1604568 rows"
   ]
  },
  {
   "cell_type": "markdown",
   "metadata": {},
   "source": [
    " Bayrische Stationen die keine Daten im Betrachtungszeitraum liefern"
   ]
  },
  {
   "cell_type": "code",
   "execution_count": null,
   "metadata": {},
   "outputs": [],
   "source": [
    "stations_BY[stations_BY.index.isin(missing_data_stations)]\n",
    "# # %% [markdown]"
   ]
  },
  {
   "cell_type": "markdown",
   "metadata": {},
   "source": [
    " Anschließend wird das Dateframe für die Analyse vorbereitet:\n",
    " #### b)"
   ]
  },
  {
   "cell_type": "markdown",
   "metadata": {},
   "source": [
    " Hier wird die Spalte NO2 in das nummerische Datenformat float überführt"
   ]
  },
  {
   "cell_type": "code",
   "execution_count": null,
   "metadata": {},
   "outputs": [],
   "source": [
    "df_data_no2[\"NO2\"] = pd.to_numeric(df_data_no2[\"NO2\"], errors=\"coerce\")\n"
   ]
  },
  {
   "cell_type": "markdown",
   "metadata": {},
   "source": [
    " Die Spalte 'DT' enthält ein valides DateTime-Format. Somit ist die Umwandlung durch ein simples pd.to_datetime erledigt."
   ]
  },
  {
   "cell_type": "code",
   "execution_count": null,
   "metadata": {},
   "outputs": [],
   "source": [
    "df_data_no2[\"DT\"] = pd.to_datetime(df_data_no2[\"DT\"], errors=\"coerce\")"
   ]
  },
  {
   "cell_type": "markdown",
   "metadata": {},
   "source": [
    " #### c)"
   ]
  },
  {
   "cell_type": "markdown",
   "metadata": {},
   "source": [
    "Hier werden alle Datenpunkte die keinen Wert in der Splate NO2 haben aus dem Datenframe df_data_no2 entfernt. Desweiteren wird die Anzahl der entfernten Datenpunkte angegeben."
   ]
  },
  {
   "cell_type": "code",
   "execution_count": null,
   "metadata": {},
   "outputs": [],
   "source": [
    "df_measurements_nanCleaned = df_data_no2.dropna(\n",
    "    axis=0, how=\"any\", subset=[\"NO2\"])\n",
    "\n",
    "print(\"Es wurden \" + str(len(df_data_no2) - len(df_measurements_nanCleaned)) +\n",
    "      \" Datenpunkte entfernt bei denen der NO2-Messwert gefehlt hat.\")\n",
    "\n",
    "df_data_no2 = df_measurements_nanCleaned\n",
    "\n",
    "# Es wurden 222693 gedroppt #TODO Merker entfernen\n",
    "# Nach Anpassung: 12309 entfernt aber nachwievor:\n",
    "# df_measurements_nanCleaned hat 1592259 Zeilen\n",
    "# TODO Station 490 ist ganz rausgefallen"
   ]
  },
  {
   "cell_type": "markdown",
   "metadata": {},
   "source": [
    " #### d)"
   ]
  },
  {
   "cell_type": "markdown",
   "metadata": {},
   "source": [
    "Hier werden nun alle Sationen aus dem Datenframe entfernt die für weniger als 95% der Datenpunkte keinen NO2 Wert haben. Da jedoch schon alle Datenpunkte, für die kein NO2 Wert vorhanden war entfernt wurden, wird dies mithilfe der Zeitspanne ermittelt, welche sich über den gesamten Beobachtungszeitraum erstreckt (01.01.2016-31.12.2019), ermittelt."
   ]
  },
  {
   "cell_type": "code",
   "execution_count": null,
   "metadata": {},
   "outputs": [],
   "source": [
    "# Mithilfe der Zeitspanne wird ermittelt, wie viele Datenpunkte eigentlich vorhanden sein sollten\n",
    "expected_number_of_datapoints = (\n",
    "    df_data_no2[\"DT\"].max() - df_data_no2[\"DT\"].min()).days * 24\n",
    "\n",
    "# Anschließend kann man alle Stationen entfernen, die nur weniger als 95% der möglichen Daten liefern\n",
    "treshold_filter = df_data_no2.groupby(\"STATION_ID\").filter(\n",
    "    lambda grp: grp[\"DT\"].count() / expected_number_of_datapoints < 0.95\n",
    ")\n",
    "df_data_no2.drop(treshold_filter.index, inplace=True)\n",
    "# TODO Station 511 und 513 sind rausgefallen\n"
   ]
  },
  {
   "cell_type": "markdown",
   "metadata": {},
   "source": [
    " #### e)"
   ]
  },
  {
   "cell_type": "markdown",
   "metadata": {},
   "source": [
    "Es wird nun anhand der Länge ermittelt wie viele Sationen noch vorhanden sind."
   ]
  },
  {
   "cell_type": "code",
   "execution_count": null,
   "metadata": {},
   "outputs": [],
   "source": [
    "len(df_data_no2[\"STATION_ID\"].unique())"
   ]
  },
  {
   "cell_type": "markdown",
   "metadata": {},
   "source": [
    " #### f)"
   ]
  },
  {
   "cell_type": "markdown",
   "metadata": {},
   "source": [
    "Mithilfe das Datenframe stations_BY werden die Namen der Stationen ausgegeben, die entfernt wurden."
   ]
  },
  {
   "cell_type": "code",
   "execution_count": null,
   "metadata": {},
   "outputs": [],
   "source": [
    "# Folgende Stationen sind aus dem Dataframe gefallen\n",
    "# TODO Beheben\n",
    "stations_BY.loc[treshold_filter][[\"Name\"]]\n"
   ]
  },
  {
   "cell_type": "markdown",
   "metadata": {},
   "source": [
    " ### Aufgabe 3 (Explorative Datenanalyse)"
   ]
  },
  {
   "cell_type": "markdown",
   "metadata": {},
   "source": [
    " #### a)"
   ]
  },
  {
   "cell_type": "markdown",
   "metadata": {},
   "source": [
    "Hier werden alle Datenpunkte ausgewählt, die den maximal Wert in der Spalte NO2 haben. Es werdem danach die Id(s), der Name(n), der/die Zeitstempel und der/die Messwert(e) der Station(en) ausgegeben. "
   ]
  },
  {
   "cell_type": "code",
   "execution_count": null,
   "metadata": {},
   "outputs": [],
   "source": [
    "# MaxRow_ID, MaxRow_DT, MaxRow_NO2 = df_data_no2.iloc[df_data_no2[\"NO2\"].idxmax(\n",
    "# )][[\"STATION_ID\", \"DT\", \"NO2\"]]\n",
    "max_row = df_data_no2.loc[df_data_no2[\"NO2\"] == df_data_no2[\"NO2\"].max()]\n",
    "# print(\"Der höchste NO2 Ein-Stunden-Mittelwert betrug \" + max_row['NO2'] + \".\"\n",
    "#       \"\\nEr wurde an Station \" + max_row['STATION_ID'] + \" '\" + df_stations.loc[max_row['STATION_ID']][\"Name\"] + \"' am \" + max_row['DT'] + \" gemessen.\")\n",
    "max_row.merge(df_stations.loc[max_row['STATION_ID']]\n",
    "              [[\"Name\"]], left_on=\"STATION_ID\", right_index=True)\n",
    "\n"
   ]
  },
  {
   "cell_type": "markdown",
   "metadata": {},
   "source": [
    " #### b)"
   ]
  },
  {
   "cell_type": "markdown",
   "metadata": {},
   "source": [
    "Die Datenen werden nach Tagen gruppiert und Mittelwerte über die Tage gebildet. Der Tag mit der Höchsten durchsnittlichen ein-Stunden-Konzentration von NO2 war der 23.01.2017 mit knapp 75.56 μg/m3."
   ]
  },
  {
   "cell_type": "code",
   "execution_count": 3,
   "metadata": {
    "scrolled": true
   },
   "outputs": [
    {
     "ename": "NameError",
     "evalue": "name 'df_data_no2' is not defined",
     "output_type": "error",
     "traceback": [
      "\u001b[1;31m---------------------------------------------------------------------------\u001b[0m",
      "\u001b[1;31mNameError\u001b[0m                                 Traceback (most recent call last)",
      "\u001b[1;32m<ipython-input-3-dd5276c9193c>\u001b[0m in \u001b[0;36m<module>\u001b[1;34m\u001b[0m\n\u001b[1;32m----> 1\u001b[1;33m df_data_no2[['Date', \"NO2\"]].groupby(df_data_no2[\"DT\"].dt.date).mean(\n\u001b[0m\u001b[0;32m      2\u001b[0m ).sort_values(by=\"NO2\", ascending=False).head(1)\n",
      "\u001b[1;31mNameError\u001b[0m: name 'df_data_no2' is not defined"
     ]
    }
   ],
   "source": [
    "df_data_no2[['Date', \"NO2\"]].groupby(df_data_no2[\"DT\"].dt.date).mean(\n",
    ").sort_values(by=\"NO2\", ascending=False).head(1)"
   ]
  },
  {
   "cell_type": "markdown",
   "metadata": {},
   "source": [
    " #### c)"
   ]
  },
  {
   "cell_type": "markdown",
   "metadata": {},
   "source": [
    "Es sollen die 10 höchsten NO2 Konzentrationen der Sation in der Nikolaistraße in Weiden ausgegben werden. Die Daten zu dieser Station werden mit werden mithilfe der Datenframes df_stations und df_data_no2 aggregiert."
   ]
  },
  {
   "cell_type": "code",
   "execution_count": null,
   "metadata": {},
   "outputs": [],
   "source": [
    "id_nicolaistreet = df_stations.loc[df_stations[\"Name\"] ==\n",
    "                                   \"Weiden i.d.OPf./Nikolaistraße\"].index[0]\n",
    "df_measurements_nico = df_data_no2.loc[df_data_no2[\"STATION_ID\"]\n",
    "                                       == id_nicolaistreet]\n",
    "df_measurements_nico.sort_values(by=\"NO2\", ascending=False, inplace=True)\n",
    "# print(df_measurements_nico.iloc[: 10].to_string(\n",
    "#     index=False, columns=[\"DT\", \"NO2\"]))\n",
    "df_measurements_nico.iloc[: 10][[\"DT\", \"NO2\"]]"
   ]
  },
  {
   "cell_type": "markdown",
   "metadata": {},
   "source": [
    " #### d)"
   ]
  },
  {
   "cell_type": "markdown",
   "metadata": {},
   "source": [
    "Als erster Schritt werden die Datenpunkte nach ihren Jahren gruppiert"
   ]
  },
  {
   "cell_type": "code",
   "execution_count": null,
   "metadata": {},
   "outputs": [],
   "source": [
    "# Gruppierung nur nach Year\n",
    "df_yearMean = df_data_no2.groupby(df_data_no2[\"DT\"].dt.year).mean()\n",
    "df_yearMean\n",
    "\n",
    "# Gruppierung nur nach Year und Type, dazu ist merge notwendig"
   ]
  },
  {
   "cell_type": "markdown",
   "metadata": {},
   "source": [
    "Es wird ein Hilfsdatenframe angelegt, welches die Datenpunkte mit den zugehörigen Sationstypen enthält. Dieses Datenframe wird danach Nach Jahr und Typ gruppiert (Obere Zelle NÖTIG ???) und danach as Balkendiagramm angezeigt, wobei die X-Achse die Zeit in Jahren enthält und die Y-Achse die durchschnittliche NO2 Konzentration. Desweitern sind pro Jahr zwei Balken zu erkennen, wobei jeder Balken einen Stationstyp repräsentiert."
   ]
  },
  {
   "cell_type": "code",
   "execution_count": 4,
   "metadata": {},
   "outputs": [
    {
     "ename": "NameError",
     "evalue": "name 'df_data_no2' is not defined",
     "output_type": "error",
     "traceback": [
      "\u001b[1;31m---------------------------------------------------------------------------\u001b[0m",
      "\u001b[1;31mNameError\u001b[0m                                 Traceback (most recent call last)",
      "\u001b[1;32m<ipython-input-4-b21c06af5803>\u001b[0m in \u001b[0;36m<module>\u001b[1;34m\u001b[0m\n\u001b[1;32m----> 1\u001b[1;33m df_merge = df_data_no2.merge(\n\u001b[0m\u001b[0;32m      2\u001b[0m     df_stations[[\"Type\"]], how=\"left\", left_on=\"STATION_ID\", right_index=True)\n\u001b[0;32m      3\u001b[0m \u001b[1;33m\u001b[0m\u001b[0m\n\u001b[0;32m      4\u001b[0m df_YearTypeMean = df_merge.groupby(\n\u001b[0;32m      5\u001b[0m     [df_merge[\"DT\"].dt.year, \"Type\"]).mean()[[\"NO2\"]]\n",
      "\u001b[1;31mNameError\u001b[0m: name 'df_data_no2' is not defined"
     ]
    }
   ],
   "source": [
    "df_merge = df_data_no2.merge(\n",
    "    df_stations[[\"Type\"]], how=\"left\", left_on=\"STATION_ID\", right_index=True)\n",
    "\n",
    "df_YearTypeMean = df_merge.groupby(\n",
    "    [df_merge[\"DT\"].dt.year, \"Type\"]).mean()[[\"NO2\"]]\n",
    "df_YearTypeMean\n",
    "\n",
    "# Diagramm zeigt Mittelwert über Jahre gruppiert nach Typ\n",
    "df_YearTypeMean.unstack().plot(kind=\"bar\")"
   ]
  },
  {
   "cell_type": "markdown",
   "metadata": {},
   "source": [
    " ### Aufgabe 4 (Verletzung der zulässigen NO2-Grenzwerte)"
   ]
  },
  {
   "cell_type": "markdown",
   "metadata": {},
   "source": [
    " #### a)"
   ]
  },
  {
   "cell_type": "markdown",
   "metadata": {},
   "source": [
    "Es sollen alle Stationen gefunden werden, bei denen eine Verletzung der stündlichen NO2 Grenzwerte vorliegt. Das Datenframe wird entsprechen gefiltert und nach Stations-Id's gruppiert. Auffällig ist, dass keine Sationen möfter als 18 mal im Jahr diesen Grenzwert überschreiten. "
   ]
  },
  {
   "cell_type": "code",
   "execution_count": null,
   "metadata": {},
   "outputs": [],
   "source": [
    "# Alle Überschreitungen holen\n",
    "violating_datapoints = df_data_no2[df_data_no2[\"NO2\"] > 200]\n",
    "\n",
    "# Die Anzahl pro Station auswerten\n",
    "violations_per_station = violating_datapoints.groupby(\"STATION_ID\").count()[\n",
    "    [\"NO2\"]].rename(columns={\"NO2\": \"NO2_limit_violations\"})\n",
    "\n",
    "violations_per_station\n"
   ]
  },
  {
   "cell_type": "markdown",
   "metadata": {},
   "source": [
    "Darunterliegende Zelle NÖTIG???"
   ]
  },
  {
   "cell_type": "code",
   "execution_count": null,
   "metadata": {},
   "outputs": [],
   "source": [
    "violating_datapoints.groupby(\n",
    "    [\"STATION_ID\", violating_datapoints[\"DT\"].dt.year]).count()[[\"NO2\"]]\n",
    "# Todo Fragen ob wirklich keine überschreiten\n",
    "\n"
   ]
  },
  {
   "cell_type": "markdown",
   "metadata": {},
   "source": [
    " #### b)"
   ]
  },
  {
   "cell_type": "markdown",
   "metadata": {},
   "source": [
    "Nun sollen jahrliche Versößte gegen die durschnittliche ein-Stunden-Konzentration von NO2 ermittelt werden. Dazu wird das Datenframe passent gruppiert und der Mittelwert gebildet."
   ]
  },
  {
   "cell_type": "code",
   "execution_count": 5,
   "metadata": {},
   "outputs": [
    {
     "ename": "NameError",
     "evalue": "name 'df_data_no2' is not defined",
     "output_type": "error",
     "traceback": [
      "\u001b[1;31m---------------------------------------------------------------------------\u001b[0m",
      "\u001b[1;31mNameError\u001b[0m                                 Traceback (most recent call last)",
      "\u001b[1;32m<ipython-input-5-850850b6eb53>\u001b[0m in \u001b[0;36m<module>\u001b[1;34m\u001b[0m\n\u001b[1;32m----> 1\u001b[1;33m violations_data_points_yearly = df_data_no2.groupby(\n\u001b[0m\u001b[0;32m      2\u001b[0m     by=[\"STATION_ID\", df_data_no2[\"DT\"].dt.year]).mean()[\"NO2\"]\n\u001b[0;32m      3\u001b[0m \u001b[1;33m\u001b[0m\u001b[0m\n\u001b[0;32m      4\u001b[0m \u001b[0mviolations_data_points_yearly\u001b[0m\u001b[1;33m[\u001b[0m\u001b[0mviolations_data_points_yearly\u001b[0m \u001b[1;33m>\u001b[0m \u001b[1;36m40\u001b[0m\u001b[1;33m]\u001b[0m\u001b[1;33m\u001b[0m\u001b[1;33m\u001b[0m\u001b[0m\n",
      "\u001b[1;31mNameError\u001b[0m: name 'df_data_no2' is not defined"
     ]
    }
   ],
   "source": [
    "violations_data_points_yearly = df_data_no2.groupby(\n",
    "    by=[\"STATION_ID\", df_data_no2[\"DT\"].dt.year]).mean()[\"NO2\"]\n",
    "\n",
    "violations_data_points_yearly[violations_data_points_yearly > 40]"
   ]
  },
  {
   "cell_type": "markdown",
   "metadata": {},
   "source": [
    " ### Aufgabe 5 (Visualisierung)"
   ]
  },
  {
   "cell_type": "markdown",
   "metadata": {},
   "source": [
    " #### a) (Missing????)"
   ]
  },
  {
   "cell_type": "markdown",
   "metadata": {},
   "source": [
    " #### b)"
   ]
  },
  {
   "cell_type": "code",
   "execution_count": null,
   "metadata": {},
   "outputs": [],
   "source": [
    "SEASONS = np.array(['Winter', 'Spring', 'Summer', 'Autumn'])\n",
    "month = np.arange(12) + 1\n",
    "season = SEASONS[(month // 3) % 4]\n",
    "\n",
    "\n",
    "def month_to_season(month_int):\n",
    "    return season[month_int - 1]\n",
    "\n"
   ]
  },
  {
   "cell_type": "code",
   "execution_count": null,
   "metadata": {},
   "outputs": [],
   "source": [
    "df_data_no2[\"Season\"] = df_data_no2[\"DT\"].map(\n",
    "    lambda dt: month_to_season(dt.month))\n"
   ]
  },
  {
   "cell_type": "code",
   "execution_count": null,
   "metadata": {},
   "outputs": [],
   "source": [
    "# df_measurements.groupby(month_to_season(df_measurements[\"DT\"].dt.month)).mean()[[\"NO2\"]]\n",
    "\n",
    "df_mean_per_season = df_data_no2.groupby(\n",
    "    [\n",
    "        df_data_no2[\"DT\"].dt.year,\n",
    "        month_to_season(df_data_no2[\"DT\"].dt.month)\n",
    "    ]\n",
    ").mean()[[\"NO2\"]]\n"
   ]
  },
  {
   "cell_type": "code",
   "execution_count": null,
   "metadata": {},
   "outputs": [],
   "source": [
    "# Alternative zu meinem iloc\n",
    "# df_mean_per_season.unstack().loc[:, (slice(None), \"Spring\")].values\n",
    "df_mean_per_season.rename_axis(['Year', 'Season'], inplace=True)\n"
   ]
  },
  {
   "cell_type": "code",
   "execution_count": null,
   "metadata": {},
   "outputs": [],
   "source": [
    "x_years = df_mean_per_season.index.get_level_values(level=\"Year\").unique()\n",
    "\n",
    "mean_yearly_values = []\n",
    "for year in x_years:\n",
    "    mean_yearly_values.append(df_mean_per_season.loc[year].values.mean())\n",
    "\n",
    "\n",
    "trace1 = go.Scatter(\n",
    "    x=x_years,\n",
    "    y=df_mean_per_season.iloc[df_mean_per_season.index.isin(\n",
    "        [\"Spring\"], level='Season')][\"NO2\"],\n",
    "    mode=\"lines\",\n",
    "    name=\"Spring NO2 Averages\"\n",
    ")\n",
    "trace2 = go.Scatter(\n",
    "    x=x_years,\n",
    "    y=df_mean_per_season.iloc[df_mean_per_season.index.isin(\n",
    "        [\"Autumn\"], level='Season')][\"NO2\"],\n",
    "    mode=\"lines\",\n",
    "    name=\"Autumn NO2 Averages\"\n",
    ")\n",
    "trace3 = go.Scatter(\n",
    "    x=x_years,\n",
    "    y=df_mean_per_season.iloc[df_mean_per_season.index.isin(\n",
    "        [\"Summer\"], level='Season')][\"NO2\"],\n",
    "    mode=\"lines\",\n",
    "    name=\"Summer NO2 Averages\"\n",
    ")\n",
    "trace4 = go.Scatter(\n",
    "    x=x_years,\n",
    "    y=df_mean_per_season.iloc[df_mean_per_season.index.isin(\n",
    "        [\"Winter\"], level='Season')][\"NO2\"],\n",
    "    mode=\"lines\",\n",
    "    name=\"Winter NO2 Averages\"\n",
    ")\n",
    "# TODO Explain additional trace\n",
    "trace5 = go.Scatter(\n",
    "    x=x_years,\n",
    "    y=mean_yearly_values,\n",
    "    mode=\"lines\",\n",
    "    name=\"Average yearly NO2 Concentration\"\n",
    ")\n",
    "\n",
    "layout = go.Layout(\n",
    "    template=\"plotly_dark\",\n",
    "    title=go.layout.Title(\n",
    "        text='<b>Jahreszeitlicher Verlauf der NO2 Konzentration</b>',\n",
    "        font=dict(color='royalblue')\n",
    "    ),\n",
    "    xaxis=go.layout.XAxis(\n",
    "        title=go.layout.xaxis.Title(\n",
    "            text='Jahre',\n",
    "            font=dict(color='lightblue')\n",
    "        )\n",
    "    ),\n",
    "    yaxis=go.layout.YAxis(\n",
    "        title=go.layout.yaxis.Title(\n",
    "            text='Konzentration',\n",
    "            font=dict(color='lightblue')\n",
    "        )\n",
    "    )\n",
    ")\n",
    "\n",
    "data = [trace1, trace2, trace3, trace4, trace5]\n",
    "fig = go.Figure(data=data, layout=layout)\n",
    "\n",
    "fig.show()\n"
   ]
  },
  {
   "cell_type": "markdown",
   "metadata": {},
   "source": [
    "Klar zu erkennen ist, dass die NO2 Konzentration im Winter signifikant höher ist all alle anderen Jahreszeiten."
   ]
  },
  {
   "cell_type": "markdown",
   "metadata": {},
   "source": [
    " #### c)"
   ]
  },
  {
   "cell_type": "code",
   "execution_count": null,
   "metadata": {},
   "outputs": [],
   "source": [
    "df_mean_per_day = df_data_no2.groupby(\n",
    "    df_data_no2[\"DT\"].dt.date).agg({\"NO2\": \"mean\"})"
   ]
  },
  {
   "cell_type": "code",
   "execution_count": null,
   "metadata": {},
   "outputs": [],
   "source": [
    "fig = px.line(\n",
    "    df_mean_per_day,\n",
    "    x=df_mean_per_day.index,\n",
    "    y=df_mean_per_day[\"NO2\"],\n",
    "    title='Mean NO2 per day')\n",
    "fig.show()\n",
    "\n",
    "# endregion\n"
   ]
  },
  {
   "cell_type": "markdown",
   "metadata": {},
   "source": [
    " ### Aufgabe 6  (Interaktives Diagramm)"
   ]
  },
  {
   "cell_type": "markdown",
   "metadata": {},
   "source": [
    " #### a)"
   ]
  },
  {
   "cell_type": "code",
   "execution_count": null,
   "metadata": {},
   "outputs": [],
   "source": [
    "df_merge = df_data_no2.merge(\n",
    "    df_stations[['Type']], how='left', left_on='STATION_ID', right_index=True)"
   ]
  },
  {
   "cell_type": "code",
   "execution_count": null,
   "metadata": {},
   "outputs": [],
   "source": [
    "df_data = df_merge.groupby(\n",
    "    [\n",
    "        df_merge['Type'],\n",
    "        df_merge['DT'].dt.strftime('%A'),\n",
    "        df_merge['DT'].dt.strftime('%X'),\n",
    "    ]\n",
    ").mean()[['NO2']]\n",
    "\n",
    "\n",
    "df_data.rename_axis(['Type', 'Weekday', 'Hour'], inplace=True)\n",
    "df_data\n"
   ]
  },
  {
   "cell_type": "code",
   "execution_count": null,
   "metadata": {},
   "outputs": [],
   "source": [
    "\n",
    "data = [go.Bar(\n",
    "    x=df_data.index.get_level_values('Hour').unique(),\n",
    "    y=df_data['NO2'],\n",
    ")]\n",
    "\n",
    "layout = go.Layout(\n",
    "    template=\"plotly_dark\",\n",
    "    title=go.layout.Title(\n",
    "        text='Daily chart of mean NO2 measurements of bavarian stations',\n",
    "        font=dict(\n",
    "            size=24,\n",
    "            color='#4863c7'\n",
    "        )\n",
    "    ),\n",
    "    xaxis=go.layout.XAxis(\n",
    "        title=go.layout.xaxis.Title(\n",
    "            text='Hour',\n",
    "            font=dict(\n",
    "                size=18,\n",
    "                color='green'\n",
    "            )\n",
    "        )\n",
    "    ),\n",
    "    yaxis=go.layout.YAxis(\n",
    "        title=go.layout.yaxis.Title(\n",
    "            text='NO2',\n",
    "            font=dict(\n",
    "                size=18,\n",
    "                color='green'\n",
    "            )\n",
    "        ),\n",
    "        range=[0, 45]\n",
    "    ),\n",
    "    hovermode='closest'\n",
    ")\n",
    "\n",
    "fig = go.FigureWidget(data=data, layout=layout)\n",
    "\n",
    "radio_type = widgets.RadioButtons(\n",
    "    options=list(df_data.index.get_level_values('Type').unique()) + ['all'],\n",
    "    description='Type of Stations'\n",
    ")\n",
    "radio_day = widgets.RadioButtons(\n",
    "    options=list(df_data.index.get_level_values('Weekday').unique()) + ['All'],\n",
    "    description='Days of Weeks'\n",
    ")\n",
    "\n",
    "\n",
    "def update_graph(change):\n",
    "    chosen_type = radio_type.value\n",
    "    chosen_day = radio_day.value\n",
    "    if chosen_type == 'all' and chosen_day == 'All':\n",
    "        df_diagramm = df_data.unstack().mean()\n",
    "    elif chosen_type == 'all':\n",
    "        df_diagramm = df_data.iloc[df_data.index.isin(\n",
    "            [chosen_day], level='Weekday')].unstack().mean()\n",
    "    elif chosen_day == 'All':\n",
    "        df_diagramm = df_data.loc[chosen_type]\n",
    "    else:\n",
    "        df_diagramm = df_data.loc[chosen_type, chosen_day]\n",
    "\n",
    "    with fig.batch_update():\n",
    "        fig.layout.xaxis.autorange = False\n",
    "        fig.layout.yaxis.autorange = False\n",
    "        fig.data[0].y = df_diagramm['NO2']\n",
    "        fig.data[0].text = df_diagramm['NO2']\n",
    "\n",
    "# TODO Cleanup Text\n",
    "\n",
    "\n",
    "# Verknüpfung der Callback-Funktion mit dem Widget\n",
    "radio_type.observe(update_graph, names='value')\n",
    "radio_day.observe(update_graph, names='value')\n",
    "\n",
    "radio_buttons = widgets.HBox([radio_type, radio_day])\n",
    "final_fig = widgets.VBox([fig, radio_buttons])\n",
    "\n",
    "final_fig\n"
   ]
  },
  {
   "cell_type": "markdown",
   "metadata": {},
   "source": [
    " #### b)\n",
    " Theorien:\n",
    " 1. Freitag abends und Montag morgens bei allen Typen höherer Ausstoß\n",
    " 2. Jeden Wochentag zwischen 6 und 9 und 17 - 21 Uhr\n",
    " 3. Traffic Stationen haben einen grundsätzlich einen höheren Durchschnittswert als Background Stationen\n",
    "\n",
    " Fakten:\n",
    " 1. Montag morgen ist kein erhöhter Ausstoß zu erkennen\n",
    " 2. Theorie 2 stimmt: Arbeitsverkehr ist bei allen Typen zu erkennen/Rush-Hour\n",
    " 3. Theorie 3 stimmt: Dies ist deutlich zu erkennen -> erhöhter Verkehr in städtischen Regionen\n",
    " 4. Freitag auffällig erhöhte Messwerte in den Abendstunden\n",
    " 5. Von Montag bis Freitag steigen kontinuierlich die gemessenen NO2-Mittelwerte in den Abendstunden\n",
    " -> Allein anhand den visualisierten Daten ist, kann man stark von einem Zusammenhang des Verkehrsaufkommens und der gemessenen NO2-Konzentration ausgehen.\n",
    " In der Tat ist das NO2 Vorkommen fast vollständig auf anthropogenen Quellen in Form von Verbrennungsemissionen zurückzuführen.\n",
    " Ein großteil davon ist dem Straßenverkehr zuzuschreiben (vgl. [1])."
   ]
  },
  {
   "cell_type": "markdown",
   "metadata": {},
   "source": [
    " ### Aufgabe 7"
   ]
  },
  {
   "cell_type": "markdown",
   "metadata": {},
   "source": [
    " #### a)"
   ]
  },
  {
   "cell_type": "code",
   "execution_count": null,
   "metadata": {},
   "outputs": [],
   "source": [
    "# Convert to datetime\n",
    "df_weather['date'] = pd.to_datetime(df_weather['date'])\n"
   ]
  },
  {
   "cell_type": "markdown",
   "metadata": {},
   "source": [
    " #### b)(Missing????)"
   ]
  },
  {
   "cell_type": "markdown",
   "metadata": {},
   "source": [
    " #### c)"
   ]
  },
  {
   "cell_type": "code",
   "execution_count": null,
   "metadata": {},
   "outputs": [],
   "source": [
    "df_data_o3 = api.GetMeasurements_MeanPerHour_SingleComponent(\n",
    "    station_id=str(509),\n",
    "    component=api.ComponentEnum.O3,\n",
    "    date_from=\"2016-01-01\",\n",
    "    date_to=\"2019-12-31\")\n",
    "\n",
    "df_data_o3"
   ]
  },
  {
   "cell_type": "code",
   "execution_count": null,
   "metadata": {},
   "outputs": [],
   "source": [
    "# Clean Data\n",
    "df_data_o3 = df_data_o3.replace(\n",
    "    to_replace='24:00:00', value=\"00:00:00\", regex=True)\n",
    "df_data_o3.index = pd.to_datetime(df_data_o3.index)\n",
    "\n",
    "df_data_o3.drop(['component id', 'scope id', 'date end',\n",
    "                 'index'], inplace=True, axis=1)\n"
   ]
  },
  {
   "cell_type": "markdown",
   "metadata": {},
   "source": [
    " #### d) (Missing????)"
   ]
  },
  {
   "cell_type": "markdown",
   "metadata": {},
   "source": [
    " #### e)"
   ]
  },
  {
   "cell_type": "code",
   "execution_count": null,
   "metadata": {},
   "outputs": [],
   "source": [
    "df_weather.set_index('date', inplace=True)"
   ]
  },
  {
   "cell_type": "markdown",
   "metadata": {},
   "source": [
    " #### f)"
   ]
  },
  {
   "cell_type": "code",
   "execution_count": null,
   "metadata": {},
   "outputs": [],
   "source": [
    "\n",
    "trace = go.Scattergl(\n",
    "    x=df_max_temp_o3['temperatureMax'],\n",
    "    y=df_max_temp_o3['O3'],\n",
    "    mode='markers',\n",
    "    marker=dict(\n",
    "        size=6,\n",
    "    ),\n",
    "    text=df_max_temp_o3.index.date\n",
    ")\n",
    "\n",
    "layout = go.Layout(\n",
    "    template=\"plotly_dark\",\n",
    "    title=go.layout.Title(\n",
    "        text='Daily maximum values of ozone and temperature',\n",
    "        font=dict(\n",
    "            size=22,\n",
    "            color='#4863c7'\n",
    "        )\n",
    "    ),\n",
    "    xaxis=go.layout.XAxis(\n",
    "        title=go.layout.xaxis.Title(\n",
    "            text='Temperature',\n",
    "            font=dict(\n",
    "                size=18,\n",
    "                color='green'\n",
    "            )\n",
    "        )\n",
    "    ),\n",
    "    yaxis=go.layout.YAxis(\n",
    "        title=go.layout.yaxis.Title(\n",
    "            text='Ozone',\n",
    "            font=dict(\n",
    "                size=18,\n",
    "                color='green'\n",
    "            )\n",
    "        ),\n",
    "    ),\n",
    "    hovermode='closest'\n",
    ")\n",
    "\n",
    "data = [trace]\n",
    "fig = go.Figure(data=data, layout=layout)\n",
    "fig.show()\n"
   ]
  },
  {
   "cell_type": "markdown",
   "metadata": {},
   "source": [
    "1. Unter 12 Grad gibt es keinen Ozone Konzentration über 100\n",
    "2. Mit höheren Temperaturen ist der Ozone Wert höher (mehr radikale aus O2 durch höhere sonneneinstrahlung, dominiert durch neigung der erdachse bzgl der sonne [2])\n",
    "\n",
    "-> Es lässt sich ein linearer Zusammenhang zwischen der Ozone Konzentration und der vorhandenen Temperatur vermuten\n"
   ]
  },
  {
   "cell_type": "markdown",
   "metadata": {},
   "source": [
    " #### g)"
   ]
  },
  {
   "cell_type": "code",
   "execution_count": null,
   "metadata": {},
   "outputs": [],
   "source": [
    "np.corrcoef(df_max_temp_o3[\"O3\"], df_max_temp_o3['temperatureMax'])[0][1]\n"
   ]
  },
  {
   "cell_type": "code",
   "execution_count": null,
   "metadata": {},
   "outputs": [],
   "source": [
    "# corr_matrix = df_max_temp_o3.corr()\n",
    "# trace = go.Heatmap(corr_matrix,\n",
    "#                    colorscale='Viridis')\n",
    "# data = [trace]\n",
    "# fig = go.Figure(data=data)\n",
    "# fig.show()\n",
    "\n"
   ]
  },
  {
   "cell_type": "code",
   "execution_count": null,
   "metadata": {},
   "outputs": [],
   "source": [
    "x = df_max_temp_o3['temperatureMax'].values\n",
    "y = df_max_temp_o3['O3'].values"
   ]
  },
  {
   "cell_type": "code",
   "execution_count": null,
   "metadata": {},
   "outputs": [],
   "source": [
    "y.shape\n"
   ]
  },
  {
   "cell_type": "code",
   "execution_count": null,
   "metadata": {},
   "outputs": [],
   "source": [
    "model = sk.LinearRegression()\n",
    "model.fit(x.reshape(-1, 1), y)\n"
   ]
  },
  {
   "cell_type": "code",
   "execution_count": null,
   "metadata": {},
   "outputs": [],
   "source": [
    "modelline = go.Scattergl(\n",
    "    x=x,\n",
    "    y=model.predict(x.reshape(-1, 1)),\n",
    "    name=\"Linear Regression\",\n",
    "    line=dict(\n",
    "        color=\"red\"\n",
    "    )\n",
    ")\n",
    "\n",
    "fig.add_trace(modelline)\n",
    "fig.show()\n",
    "\n",
    "# endregion"
   ]
  },
  {
   "cell_type": "markdown",
   "metadata": {},
   "source": [
    " ### Aufgabe 8"
   ]
  },
  {
   "cell_type": "markdown",
   "metadata": {},
   "source": [
    "Graphische Analyse der Daten:\n",
    "1. Diagramme für Alle 5 Schadstoffe über Zeit (Täglich), im Vergleich zum 4 Jahres Druchschnitt der einzelnen Schadstoffe.\n",
    "2. Diagramm der NO2 Konzentration der ersten sechs Monate diese Jahres und dem Durchschnitt der NO2 Konzentration der ersten sechs Monate der 4 Vorjahre\n",
    "\n",
    "Art der Daten die analysiert werden:\n",
    "\n",
    "->Dataframe mit Allen Schadstoffstypen zu den entsprechenden Stationstypen und Zeitstempel.\n",
    "\n"
   ]
  },
  {
   "cell_type": "code",
   "execution_count": null,
   "metadata": {},
   "outputs": [],
   "source": [
    "# TODO Auslesen von Chache entfernen\n",
    "stations_BY = pd.read_excel(\n",
    "    \"Stations_BY.xlsx\", index_col=0)"
   ]
  },
  {
   "cell_type": "code",
   "execution_count": null,
   "metadata": {},
   "outputs": [],
   "source": [
    "stations_ALL = pd.read_excel(\n",
    "    \"Stations.xlsx\", index_col=0)\n"
   ]
  },
  {
   "cell_type": "code",
   "execution_count": null,
   "metadata": {},
   "outputs": [],
   "source": [
    "date_from = \"2016-01-01\"\n",
    "# TODO Auf 30.06 setzen und nochmal abfragen (ganzer monat)\n",
    "date_to = \"2020-06-30\"\n",
    "\n",
    "# Deutsche Stationen\n",
    "df_all_components = pd.DataFrame()\n",
    "for station_id in stations_ALL.index:\n",
    "    station_data = api.GetMeasurements_MeanPerHour_MultiComponents(\n",
    "        station_id=str(station_id),\n",
    "        components=[\"CO\", \"SO2\"],\n",
    "        date_from=date_from,\n",
    "        date_to=date_to)\n",
    "    station_data[\"STATION_ID\"] = station_id\n",
    "    station_data = station_data.set_index(\n",
    "        \"STATION_ID\", append=True).swaplevel()\n",
    "    print(\"Station \" + str(station_id) + \" done\")\n",
    "\n",
    "    df_all_components = pd.concat([df_all_components, station_data])\n",
    "\n"
   ]
  },
  {
   "cell_type": "code",
   "execution_count": null,
   "metadata": {},
   "outputs": [],
   "source": [
    "# bayrische Stationen\n",
    "df_all_components_by = pd.DataFrame()\n",
    "for station_id in stations_BY.index:\n",
    "    station_data = api.GetMeasurements_MeanPerHour_MultiComponents(\n",
    "        station_id=str(station_id),\n",
    "        components=[\"CO\", \"SO2\"],\n",
    "        date_from=date_from,\n",
    "        date_to=date_to)\n",
    "    station_data[\"STATION_ID\"] = station_id\n",
    "    station_data = station_data.set_index(\n",
    "        \"STATION_ID\", append=True).swaplevel()\n",
    "    print(\"Station \" + str(station_id) + \" done\")\n",
    "\n",
    "    df_all_components_by = pd.concat([df_all_components_by, station_data])\n",
    "\n",
    "df_all_components.count()\n",
    "df_all_components_by.count()\n",
    "# Wie man sieht sind für CO deutschlandweit keine Daten vorhanden. Ebenfalls zu erkennen ist der unvollständige Datensatz von PM10 und SO2 in Bayer über den Erhebungszeitraum."
   ]
  },
  {
   "cell_type": "code",
   "execution_count": null,
   "metadata": {},
   "outputs": [],
   "source": [
    "# df_all_components_by.to_csv('all_components_by.csv')\n",
    "# df_all_components.to_csv('SO2_CO.csv')"
   ]
  },
  {
   "cell_type": "code",
   "execution_count": null,
   "metadata": {},
   "outputs": [],
   "source": [
    "df_all_components_by = pd.read_csv('all_components_by.csv', parse_dates=[1])\n",
    "df_all_components_by.set_index(['STATION_ID', 'DT'], inplace=True)"
   ]
  },
  {
   "cell_type": "code",
   "execution_count": null,
   "metadata": {},
   "outputs": [],
   "source": [
    "# df_all_components = pd.read_csv('SO2_CO.csv', parse_dates=[1])\n",
    "# df_all_components.set_index(['STATION_ID', 'DT'], inplace=True)"
   ]
  },
  {
   "cell_type": "code",
   "execution_count": null,
   "metadata": {},
   "outputs": [],
   "source": [
    "# TODO Use Get data for single component in earlier tasks\n",
    "station_data = api.GetMeasurements_MeanPerHour_SingleComponent(\n",
    "    station_id=\"509\",\n",
    "    component=\"NO2\",\n",
    "    date_from=\"2016-01-01\",\n",
    "    date_to=\"2016-01-03\")\n",
    "\n",
    "station_data"
   ]
  },
  {
   "cell_type": "code",
   "execution_count": null,
   "metadata": {},
   "outputs": [],
   "source": [
    "# Add Type of station\n",
    "df_all_components_by = df_all_components_by.merge(\n",
    "    stations_BY[\"Type\"], how=\"left\", left_on=\"STATION_ID\", right_index=True)"
   ]
  },
  {
   "cell_type": "code",
   "execution_count": null,
   "metadata": {},
   "outputs": [],
   "source": [
    "# df_all_components_by.set_index('Type',append=True, inplace=True)\n",
    "df_all_components_by['Type'] = df_all_components_by['Type'].astype(str)\n",
    "df_all_components_by.dtypes\n"
   ]
  },
  {
   "cell_type": "code",
   "execution_count": null,
   "metadata": {},
   "outputs": [],
   "source": [
    "# df_all_components_by.groupby(\n",
    "#     level=\"DT\"\n",
    "#     df_all_components_by.index.get_level_values('DT').dt.date\n",
    "#     df_all_components_by[\"DT\"].date\n",
    "# ).mean()"
   ]
  },
  {
   "cell_type": "code",
   "execution_count": null,
   "metadata": {},
   "outputs": [],
   "source": [
    "# df_plot_data = df_all_components_by.groupby(\n",
    "#     [\n",
    "#         df_all_components[\"DT\"].dt.month,\n",
    "#         df_all_components[\"DT\"].dt.date\n",
    "#     ]\n",
    "# ).mean()\n"
   ]
  },
  {
   "cell_type": "code",
   "execution_count": null,
   "metadata": {},
   "outputs": [],
   "source": [
    "df_plot_data = df_all_components_by.groupby(\n",
    "    level=[\"DT\"], by=[lambda dt: dt.year, lambda dt: dt.month, lambda dt: dt.day, \"Type\"]).mean()\n",
    "df_plot_data.rename_axis(['Year', 'Month', 'Day', 'Type'], inplace=True)\n",
    "df_plot_data"
   ]
  },
  {
   "cell_type": "code",
   "execution_count": null,
   "metadata": {},
   "outputs": [],
   "source": [
    "df_all_components_by.set_index(\"Type\", append=True, inplace=True)\n",
    "\n",
    "# df_all_components_by[\"Type\"].mean(numeric_only = False)\n",
    "\n",
    "# df_plot_data"
   ]
  },
  {
   "cell_type": "code",
   "execution_count": null,
   "metadata": {},
   "outputs": [],
   "source": [
    "# Only select values of the first half year of each year\n",
    "df_halfyears = df_plot_data.loc[(\n",
    "    df_plot_data.index.get_level_values(level='Month') <= 6)]\n",
    "df_halfyears"
   ]
  },
  {
   "cell_type": "code",
   "execution_count": null,
   "metadata": {},
   "outputs": [],
   "source": [
    "df_halfyears_before_2020 = df_halfyears.loc[\n",
    "    (df_halfyears.index.get_level_values(level='Year') <= 2019) &\n",
    "    (df_halfyears.index.get_level_values(level='Year') >= 2016)\n",
    "]\n",
    "\n",
    "df_halfyears_2020 = df_halfyears.loc[\n",
    "    df_halfyears.index.get_level_values(level='Year') == 2020\n",
    "]"
   ]
  },
  {
   "cell_type": "code",
   "execution_count": null,
   "metadata": {},
   "outputs": [],
   "source": [
    "# Get data\n",
    "df_halfyears_before_2020_mean_per_day = df_halfyears_before_2020.groupby([\n",
    "                                                                         \"Month\", \"Day\"]).mean()\n",
    "\n",
    "df_halfyears_2020_mean_per_day = df_halfyears_2020.groupby(\n",
    "    [\"Month\", \"Day\"]).mean()\n"
   ]
  },
  {
   "cell_type": "code",
   "execution_count": null,
   "metadata": {},
   "outputs": [],
   "source": [
    "# Calculate x axes value\n",
    "start_time = pd.to_datetime(\"2020-01-01\",\n",
    "                            infer_datetime_format=True)\n",
    "end_time = pd.to_datetime(\"2020-06-28\",\n",
    "                          infer_datetime_format=True)\n",
    "x_axis_data = pd.date_range(start_time, end_time, freq='d').to_list()"
   ]
  },
  {
   "cell_type": "code",
   "execution_count": null,
   "metadata": {},
   "outputs": [],
   "source": [
    "fig = make_subplots(rows=4, cols=1,\n",
    "                    shared_xaxes=True,\n",
    "                    vertical_spacing=0.05,\n",
    "                    subplot_titles=(\"Particulate matter\",\n",
    "                                    \"Ozone\", \"Sulphur dioxide\", \"Nitrogen dioxide\")\n",
    "                    )\n",
    "\n",
    "# DATA\n",
    "# 1. plot PM10\n",
    "fig.add_trace(\n",
    "    go.Scatter(\n",
    "        x=x_axis_data,\n",
    "        y=df_halfyears_2020_mean_per_day[\"PM10\"],\n",
    "        name=\"Year 2020\",\n",
    "        line=dict(color='orange'),\n",
    "        legendgroup=\"Year 2020\"\n",
    "    ),\n",
    "    row=1, col=1\n",
    ")\n",
    "fig.add_trace(\n",
    "    go.Scatter(\n",
    "        x=x_axis_data,\n",
    "        y=df_halfyears_before_2020_mean_per_day[\"PM10\"],\n",
    "        legendgroup=\"Mean of years 2016-2019\",\n",
    "        name=\"Mean of years 2016-2019\",\n",
    "        line=dict(color='cyan')\n",
    "\n",
    "    ),\n",
    "    row=1, col=1\n",
    ")\n",
    "\n",
    "# # 2. plot CO\n",
    "# fig.add_trace(\n",
    "#     go.Scatter(\n",
    "#         x=x_axis_data,\n",
    "#         y=df_halfyears_2020_mean_per_day[\"CO\"],\n",
    "#         name=\"Year 2020\",\n",
    "#         line=dict(color='orange'),\n",
    "#         legendgroup=\"Year 2020\",\n",
    "#         showlegend=False\n",
    "#     ),\n",
    "#     row=2, col=1\n",
    "# )\n",
    "# fig.add_trace(\n",
    "#     go.Scatter(\n",
    "#         x=x_axis_data,\n",
    "#         y=df_halfyears_before_2020_mean_per_day[\"CO\"],\n",
    "#         legendgroup=\"Mean of years 2016-2019\",\n",
    "#         name=\"Mean of years 2016-2019\",\n",
    "#         line=dict(color='cyan'),\n",
    "#         showlegend=False\n",
    "#     ),\n",
    "#     row=2, col=1\n",
    "# )\n",
    "\n",
    "# 3. plot O3\n",
    "fig.add_trace(\n",
    "    go.Scatter(\n",
    "        x=x_axis_data,\n",
    "        y=df_halfyears_2020_mean_per_day[\"O3\"],\n",
    "        name=\"Year 2020\",\n",
    "        line=dict(color='orange'),\n",
    "        legendgroup=\"Year 2020\",\n",
    "        showlegend=False\n",
    "    ),\n",
    "    row=2, col=1\n",
    ")\n",
    "# 3. plot O3\n",
    "fig.add_trace(\n",
    "    go.Scatter(\n",
    "        x=x_axis_data,\n",
    "        y=df_halfyears_before_2020_mean_per_day[\"O3\"],\n",
    "        legendgroup=\"Mean of years 2016-2019\",\n",
    "        name=\"Mean of years 2016-2019\",\n",
    "        line=dict(color='cyan'),\n",
    "        showlegend=False\n",
    "\n",
    "    ),\n",
    "    row=2, col=1\n",
    ")\n",
    "\n",
    "# 4. plot SO2\n",
    "fig.add_trace(\n",
    "    go.Scatter(\n",
    "        x=x_axis_data,\n",
    "        y=df_halfyears_2020_mean_per_day[\"SO2\"],\n",
    "        name=\"Year 2020\",\n",
    "        line=dict(color='orange'),\n",
    "        legendgroup=\"Year 2020\",\n",
    "        showlegend=False\n",
    "\n",
    "    ),\n",
    "    row=3, col=1\n",
    ")\n",
    "fig.add_trace(\n",
    "    go.Scatter(\n",
    "        x=x_axis_data,\n",
    "        y=df_halfyears_before_2020_mean_per_day[\"SO2\"],\n",
    "        legendgroup=\"Mean of years 2016-2019\",\n",
    "        name=\"Mean of years 2016-2019\",\n",
    "        line=dict(color='cyan'),\n",
    "        showlegend=False\n",
    "    ),\n",
    "    row=3, col=1\n",
    ")\n",
    "\n",
    "# 5. plot NO2\n",
    "fig.add_trace(\n",
    "    go.Scatter(\n",
    "        x=x_axis_data,\n",
    "        y=df_halfyears_2020_mean_per_day[\"NO2\"],\n",
    "        name=\"Year 2020\",\n",
    "        line=dict(color='orange'),\n",
    "        legendgroup=\"Year 2020\",\n",
    "        showlegend=False\n",
    "    ),\n",
    "    row=4, col=1\n",
    ")\n",
    "fig.add_trace(\n",
    "    go.Scatter(\n",
    "        x=x_axis_data,\n",
    "        y=df_halfyears_before_2020_mean_per_day['NO2'],\n",
    "        legendgroup=\"Mean of years 2016-2019\",\n",
    "        name=\"Mean of years 2016-2019\",\n",
    "        line=dict(color='cyan'),\n",
    "        showlegend=False\n",
    "    ),\n",
    "    row=4, col=1\n",
    ")\n",
    "\n",
    "\n",
    "fig.update_xaxes(title_text=\"Time\", tickangle=45, row=5, col=1)\n",
    "\n",
    "# Update yaxis properties\n",
    "# range=[40, 80] is a usable attribute\n",
    "fig.update_yaxes(title_text=\"PM10 [µg/m³]\", row=1, col=1)\n",
    "fig.update_yaxes(title_text=\"O3 [µg/m³]\", row=2, col=1)\n",
    "fig.update_yaxes(title_text=\"SO2 [µg/m³]\", row=3, col=1)\n",
    "fig.update_yaxes(title_text=\"NO2 [µg/m³]\", range=[0, 55], row=4, col=1)\n",
    "\n",
    "fig.update_layout(\n",
    "    title_text=\"Component measurements of fist halfyears\",\n",
    "    template=\"plotly_dark\",\n",
    "    width=800,\n",
    "    height=800\n",
    "    # legend_orientation=\"h\",\n",
    "    # margin=dict(r=0, t=0, b=40, l=0)\n",
    "    # annotations=[\n",
    "    #     go.layout.Annotation(\n",
    "    #         text=\"Source: NOAA\",\n",
    "    #         showarrow=False,\n",
    "    #         xref=\"paper\",\n",
    "    #         yref=\"paper\",\n",
    "    #         x=0,\n",
    "    #         y=0)\n",
    "    # ]\n",
    "    # legend=dict(\n",
    "    #     x=0,\n",
    "    #     y=1,\n",
    "    #     traceorder=\"normal\",\n",
    "    #     font=dict(\n",
    "    #         family=\"sans-serif\",\n",
    "    #         size=12,\n",
    "    #         color=\"white\"\n",
    "    #     )\n",
    "    # )\n",
    ")\n",
    "fig.show()"
   ]
  },
  {
   "cell_type": "markdown",
   "metadata": {},
   "source": [
    "Beobachtungen:\n",
    "1. Keine CO Daten für den Zeitraum 2015-2020, weswegen auch kein Diagramm für diesen Schadstoff gezeichnet wurde\n",
    "2. PM10 Daten erste ab Ende März 2019\n",
    "3. SO2 Daten nur bis Juni 2018, weswegen auch keine Kruve der SO2 Daten für das Jahr 2020 eingezeichnet wurde\n",
    "4. NO2 2020 ist niedriger als die Druchschnittskurve der letzten 4 Jahre\n",
    "\n",
    "->NO2 ist der Schadstoff neben O3 der einen stabil genugen Datensatz hat, um analysiert zu werden. Es wird im Folgenden nur NO2 analysiert, a wir in Aufgabe 7 f festgestellt haben, dass die Konzentration von O3 nur in geringem Maße vom Menschen abhänmgt."
   ]
  },
  {
   "cell_type": "code",
   "execution_count": null,
   "metadata": {},
   "outputs": [],
   "source": [
    "# Get data\n",
    "\n",
    "# Background\n",
    "# 2016 - 2019\n",
    "df_halfyears_before_2020_NO2_mean_per_day_background = df_halfyears_before_2020.loc[\n",
    "    df_halfyears_before_2020.index.get_level_values(\n",
    "        level='Type') == 'background'].groupby(\n",
    "    [\"Month\", \"Day\", \"Type\"])[['NO2']].mean()\n",
    "\n",
    "#\n",
    "df_halfyears_2020_NO2_mean_per_day_background = df_halfyears_2020.loc[\n",
    "    df_halfyears_2020.index.get_level_values(\n",
    "        level='Type') == 'background'].groupby(\n",
    "    [\"Month\", \"Day\", \"Type\"])[[\"NO2\"]].mean()\n",
    "\n",
    "# Traffic\n",
    "# 2016 - 2019\n",
    "df_halfyears_before_2020_NO2_mean_per_day_traffic = df_halfyears_before_2020.loc[\n",
    "    df_halfyears_before_2020.index.get_level_values(\n",
    "        level='Type') == 'traffic'].groupby(\n",
    "    [\"Month\", \"Day\", \"Type\"])[['NO2']].mean()\n",
    "\n",
    "# 2020\n",
    "df_halfyears_2020_NO2_mean_per_day_traffic = df_halfyears_2020.loc[\n",
    "    df_halfyears_2020.index.get_level_values(\n",
    "        level='Type') == 'traffic'].groupby(\n",
    "    [\"Month\", \"Day\", \"Type\"])[[\"NO2\"]].mean()"
   ]
  },
  {
   "cell_type": "code",
   "execution_count": null,
   "metadata": {},
   "outputs": [],
   "source": [
    "fig_type = make_subplots(rows=3, cols=1,\n",
    "                         shared_xaxes=True,\n",
    "                         vertical_spacing=0.1,\n",
    "                         subplot_titles=(\"<b>Background</b>\",\n",
    "                                         \"<b>Traffic</b>\",\n",
    "                                         \"<b>Relativ difference between 2020 and previous halfyears</b>\"),\n",
    "                         row_width=[0.6, 0.3, 0.3]\n",
    "                         )\n",
    "\n",
    "# 1.1 Background NO2 2020\n",
    "fig_type.add_trace(\n",
    "    go.Scatter(\n",
    "        x=x_axis_data,\n",
    "        y=df_halfyears_2020_NO2_mean_per_day_background['NO2'],\n",
    "        name=\"Year 2020\",\n",
    "        line=dict(color='magenta'),\n",
    "        legendgroup=\"Absolut\",\n",
    "        showlegend=True\n",
    "    ),\n",
    "    row=1, col=1\n",
    ")\n",
    "\n",
    "# 1.2 Background NO2 2016 - 2019\n",
    "fig_type.add_trace(\n",
    "    go.Scatter(\n",
    "        x=x_axis_data,\n",
    "        y=df_halfyears_before_2020_NO2_mean_per_day_background['NO2'],\n",
    "        legendgroup=\"Absolut\",\n",
    "        name=\"Mean of years 2016-2019\",\n",
    "        line=dict(color='cyan'),\n",
    "        showlegend=True\n",
    "    ),\n",
    "    row=1, col=1\n",
    ")\n",
    "# 1.3. Ausgangssperre\n",
    "fig_type.add_shape(\n",
    "    dict(\n",
    "        type=\"line\",\n",
    "        x0=pd.to_datetime('2020-3-20'),\n",
    "        y0=0,\n",
    "        x1=pd.to_datetime('2020-3-20'),\n",
    "        y1=45,\n",
    "        line=dict(\n",
    "            color='red',\n",
    "            width=1\n",
    "        )\n",
    "    ),\n",
    "    row=1, col=1\n",
    ")\n",
    "\n",
    "# 2.1 Traffic NO2 2020\n",
    "fig_type.add_trace(\n",
    "    go.Scatter(\n",
    "        x=x_axis_data,\n",
    "        y=df_halfyears_2020_NO2_mean_per_day_traffic['NO2'],\n",
    "        name=\"Year 2020\",\n",
    "        line=dict(color='magenta'),\n",
    "        legendgroup=\"Absolut\",\n",
    "        showlegend=False\n",
    "    ),\n",
    "    row=2, col=1\n",
    ")\n",
    "\n",
    "# 2.2 Traffic NO2 2016 - 2019\n",
    "fig_type.add_trace(\n",
    "    go.Scatter(\n",
    "        x=x_axis_data,\n",
    "        y=df_halfyears_before_2020_NO2_mean_per_day_traffic['NO2'],\n",
    "        legendgroup=\"Absolut\",\n",
    "        name=\"Mean of years 2016-2019\",\n",
    "        line=dict(color='cyan'),\n",
    "        showlegend=False\n",
    "    ),\n",
    "    row=2, col=1\n",
    ")\n",
    "# 2.3. Ausgangssperre\n",
    "fig_type.add_shape(\n",
    "    dict(\n",
    "        type=\"line\",\n",
    "        x0=pd.to_datetime('2020-3-20'),\n",
    "        y0=0,\n",
    "        x1=pd.to_datetime('2020-3-20'),\n",
    "        y1=60,\n",
    "        line=dict(\n",
    "            color='red',\n",
    "            width=1\n",
    "        )\n",
    "    ),\n",
    "    row=2, col=1\n",
    ")\n",
    "\n",
    "\n",
    "# 3.1 Background NO2 Relative\n",
    "fig_type.add_trace(\n",
    "    go.Scatter(\n",
    "        x=x_axis_data,\n",
    "        y=df_halfyears_2020_NO2_mean_per_day_background['NO2']\n",
    "        .div(\n",
    "            df_halfyears_before_2020_NO2_mean_per_day_background['NO2']\n",
    "        ),\n",
    "        legendgroup=\"Relative Difference\",\n",
    "        name=\"Background\",\n",
    "        line=dict(color='orange'),\n",
    "        showlegend=True,\n",
    "    ),\n",
    "    row=3, col=1\n",
    ")\n",
    "\n",
    "# 3.2 Traffic NO2 Relative\n",
    "fig_type.add_trace(\n",
    "    go.Scatter(\n",
    "        x=x_axis_data,\n",
    "        y=df_halfyears_2020_NO2_mean_per_day_traffic['NO2'].div(\n",
    "            df_halfyears_before_2020_NO2_mean_per_day_traffic['NO2']),\n",
    "        legendgroup=\"Relative Difference\",\n",
    "        name=\"Traffic\",\n",
    "        line=dict(color='#32FF00'),\n",
    "        showlegend=True,\n",
    "    ),\n",
    "    row=3, col=1\n",
    ")\n",
    "\n",
    "\n",
    "# 3.3. Ausgangssperre\n",
    "fig_type.add_shape(\n",
    "    dict(\n",
    "        type=\"line\",\n",
    "        x0=pd.to_datetime('2020-3-20'),\n",
    "        y0=0,\n",
    "        x1=pd.to_datetime('2020-3-20'),\n",
    "        y1=2.5,\n",
    "        line=dict(\n",
    "            color='red',\n",
    "            width=1\n",
    "        )\n",
    "    ),\n",
    "    row=3, col=1\n",
    ")\n",
    "\n",
    "# 3.4. 100%\n",
    "fig_type.add_shape(\n",
    "    dict(\n",
    "        type=\"line\",\n",
    "        x0=pd.to_datetime('2020-1-1'),\n",
    "        y0=1,\n",
    "        x1=pd.to_datetime('2020-6-30'),\n",
    "        y1=1,\n",
    "        line=dict(\n",
    "            color='lightgrey',\n",
    "            width=1\n",
    "        )\n",
    "    ),\n",
    "    row=3, col=1\n",
    ")\n",
    "\n",
    "# Update layout\n",
    "fig_type.update_layout(\n",
    "    width=800,\n",
    "    height=1200,\n",
    "    title_text=\"<b> NO2 measurements of fist halfyears </b>\",\n",
    "    template=\"plotly_dark\",\n",
    "    showlegend=True,\n",
    "    legend=dict(\n",
    "        x=1,\n",
    "        y=1,\n",
    "        traceorder=\"normal\",\n",
    "        font=dict(\n",
    "            family=\"sans-serif\",\n",
    "            size=12,\n",
    "            color=\"white\"\n",
    "        ),\n",
    "        bgcolor=\"black\",\n",
    "        bordercolor=\"grey\",\n",
    "        borderwidth=1\n",
    "    )\n",
    ")\n",
    "\n",
    "# Add Lockdown label\n",
    "fig_type.update_xaxes(title=\"<b>Lockdown</b>\", title_font=dict(color=\"red\"))\n",
    "\n",
    "# Label and scale y axis\n",
    "fig_type.update_yaxes(\n",
    "    title_text=\"NO2 [µg/m³]\", row=1, col=1)\n",
    "fig_type.update_yaxes(\n",
    "    title_text=\"NO2 [µg/m³]\", row=2, col=1)\n",
    "fig_type.update_yaxes(\n",
    "    title_text=\"Relative Difference\",\n",
    "    tickformat=\"%\", range=[0, 2.3], row=3, col=1)\n",
    "\n",
    "fig_type.show()"
   ]
  },
  {
   "cell_type": "markdown",
   "metadata": {},
   "source": [
    "Beobachtungen\n",
    "1. Prozentuelle gesehen hohe Werte im vergleich zu den Vorjahreskonzentrationen im Januar 2020.\n",
    "2. Der groteil des Graphs liegt unter der 100% marke, was bedeutet, dass in den ersten sechs Monaten von 2020 durschnittlich weniger NO2 ausgestoßen wurde als in den ersten sechs Monaten der Vorjahre.\n",
    "3. Es ist ein Abfall zur erkennen als die Ausgangssperre eingetreten ist.\n",
    "4. Es ist ein abfall von 14.01-19.01 zu vermerken.\n",
    "5. Der Graph is stark schwankend.\n",
    "6. Der relativ Wert der NO2 Konzentration ist bei Stationen des Types background näher an der 100% Marke als der relativ Wert bei Stationen von dem Type traffic.\n",
    "(Der Graph der Background difference hat im Durschnitt einen höheren Wert als die Line für Traffic.)\n",
    "\n",
    "Fakten\n",
    "1. Am 20.03 trat die Ausgangssperre in Kraft [5]\n",
    "2. Von 14.01-19.01 gab es außergewöhlinche Wetterbedingungen [3]\n",
    "3. Am 27.01 wurder der erste Corona Fall in deutschland bestätigt [4]\n",
    "4. Der Graph ist stark schwankend da wir nur daten für 4 Vorjahre als Grund Menge hatten\n",
    "\n",
    "Schlussfolgerungen\n",
    "1. Der Beginn der Ausgangssperre hat einen kurzeitigen Effekt auf die NO2 Konzentration.\n",
    "2. Der Graph hät sich seit dem ersten Corona Fall in Deutschland meistens unter der 100% marke auf, was einen klaren Einfuss von der Ausganssperre und damit auch Corona auf den NO2 Wert zeigt. \n",
    "3. Da die Line für Stationen vom Typ background im Durschnitt einen höreren Wert als die Linie für Stationen vom Typ traffic hat, lässt sich schlussfolgern, dass die Coronakriese einen stärkeren Einflüss auf die NO2 Konzentration bei Stationen vom Typ traffic hat als auf Stationen vom Typ background.\n"
   ]
  }
 ],
 "metadata": {
  "kernelspec": {
   "display_name": "Python 3",
   "language": "python",
   "name": "python3"
  },
  "language_info": {
   "codemirror_mode": {
    "name": "ipython",
    "version": 3
   },
   "file_extension": ".py",
   "mimetype": "text/x-python",
   "name": "python",
   "nbconvert_exporter": "python",
   "pygments_lexer": "ipython3",
   "version": "3.7.6"
  }
 },
 "nbformat": 4,
 "nbformat_minor": 2
}
